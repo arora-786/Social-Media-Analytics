{
  "nbformat": 4,
  "nbformat_minor": 0,
  "metadata": {
    "colab": {
      "name": "Assessment.ipynb",
      "provenance": [],
      "authorship_tag": "ABX9TyPfX5tUYgadxRgDr08VQHEy",
      "include_colab_link": true
    },
    "kernelspec": {
      "name": "python3",
      "display_name": "Python 3"
    },
    "language_info": {
      "name": "python"
    }
  },
  "cells": [
    {
      "cell_type": "markdown",
      "metadata": {
        "id": "view-in-github",
        "colab_type": "text"
      },
      "source": [
        "<a href=\"https://colab.research.google.com/github/arora-786/Social-Media-Analytics/blob/main/Assessment.ipynb\" target=\"_parent\"><img src=\"https://colab.research.google.com/assets/colab-badge.svg\" alt=\"Open In Colab\"/></a>"
      ]
    },
    {
      "cell_type": "markdown",
      "metadata": {
        "id": "G24mMVeV9Gg0"
      },
      "source": [
        "**Sample Data**"
      ]
    },
    {
      "cell_type": "code",
      "metadata": {
        "id": "KQXjGdPM8pzP"
      },
      "source": [
        "data = 'Airline Code;DelayTimes;FlightCodes;To_From\\nAir Canada (!);[21, 40];20015.0;WAterLoo_NEWYork\\n<Air France> (12);[];;Montreal_TORONTO\\n(Porter Airways. );[60, 22, 87];20035.0;CALgary_Ottawa\\n12. Air France;[78, 66];;Ottawa_VANcouvER\\n\"\"\".\\\\.Lufthansa.\\\\.\"\"\";[12, 33];20055.0;london_MONTreal\\n'"
      ],
      "execution_count": 1,
      "outputs": []
    },
    {
      "cell_type": "markdown",
      "metadata": {
        "id": "2Z9zW-Vf-YtP"
      },
      "source": [
        "**Importing Required Libraries**"
      ]
    },
    {
      "cell_type": "code",
      "metadata": {
        "id": "7Z-EEphf9KZ-"
      },
      "source": [
        "import pandas as pd\n",
        "from io import StringIO \n",
        "import numpy as np\n",
        "import string"
      ],
      "execution_count": 2,
      "outputs": []
    },
    {
      "cell_type": "markdown",
      "metadata": {
        "id": "srFyTB7l-jSu"
      },
      "source": [
        "**Converting Data Into Pandas DataFrame**"
      ]
    },
    {
      "cell_type": "code",
      "metadata": {
        "colab": {
          "base_uri": "https://localhost:8080/",
          "height": 203
        },
        "id": "xbqsFACd9q3Y",
        "outputId": "9089265d-3bc0-4b61-e798-0ba2389bcaf1"
      },
      "source": [
        "df = pd.read_csv(StringIO(data), sep=\";\")\n",
        "df.head()"
      ],
      "execution_count": 3,
      "outputs": [
        {
          "output_type": "execute_result",
          "data": {
            "text/html": [
              "<div>\n",
              "<style scoped>\n",
              "    .dataframe tbody tr th:only-of-type {\n",
              "        vertical-align: middle;\n",
              "    }\n",
              "\n",
              "    .dataframe tbody tr th {\n",
              "        vertical-align: top;\n",
              "    }\n",
              "\n",
              "    .dataframe thead th {\n",
              "        text-align: right;\n",
              "    }\n",
              "</style>\n",
              "<table border=\"1\" class=\"dataframe\">\n",
              "  <thead>\n",
              "    <tr style=\"text-align: right;\">\n",
              "      <th></th>\n",
              "      <th>Airline Code</th>\n",
              "      <th>DelayTimes</th>\n",
              "      <th>FlightCodes</th>\n",
              "      <th>To_From</th>\n",
              "    </tr>\n",
              "  </thead>\n",
              "  <tbody>\n",
              "    <tr>\n",
              "      <th>0</th>\n",
              "      <td>Air Canada (!)</td>\n",
              "      <td>[21, 40]</td>\n",
              "      <td>20015.0</td>\n",
              "      <td>WAterLoo_NEWYork</td>\n",
              "    </tr>\n",
              "    <tr>\n",
              "      <th>1</th>\n",
              "      <td>&lt;Air France&gt; (12)</td>\n",
              "      <td>[]</td>\n",
              "      <td>NaN</td>\n",
              "      <td>Montreal_TORONTO</td>\n",
              "    </tr>\n",
              "    <tr>\n",
              "      <th>2</th>\n",
              "      <td>(Porter Airways. )</td>\n",
              "      <td>[60, 22, 87]</td>\n",
              "      <td>20035.0</td>\n",
              "      <td>CALgary_Ottawa</td>\n",
              "    </tr>\n",
              "    <tr>\n",
              "      <th>3</th>\n",
              "      <td>12. Air France</td>\n",
              "      <td>[78, 66]</td>\n",
              "      <td>NaN</td>\n",
              "      <td>Ottawa_VANcouvER</td>\n",
              "    </tr>\n",
              "    <tr>\n",
              "      <th>4</th>\n",
              "      <td>\".\\.Lufthansa.\\.\"</td>\n",
              "      <td>[12, 33]</td>\n",
              "      <td>20055.0</td>\n",
              "      <td>london_MONTreal</td>\n",
              "    </tr>\n",
              "  </tbody>\n",
              "</table>\n",
              "</div>"
            ],
            "text/plain": [
              "         Airline Code    DelayTimes  FlightCodes           To_From\n",
              "0      Air Canada (!)      [21, 40]      20015.0  WAterLoo_NEWYork\n",
              "1   <Air France> (12)            []          NaN  Montreal_TORONTO\n",
              "2  (Porter Airways. )  [60, 22, 87]      20035.0    CALgary_Ottawa\n",
              "3      12. Air France      [78, 66]          NaN  Ottawa_VANcouvER\n",
              "4   \".\\.Lufthansa.\\.\"      [12, 33]      20055.0   london_MONTreal"
            ]
          },
          "metadata": {},
          "execution_count": 3
        }
      ]
    },
    {
      "cell_type": "markdown",
      "metadata": {
        "id": "THN-ZhOY-61b"
      },
      "source": [
        "**Checking Rows & Columns In The Dataset**"
      ]
    },
    {
      "cell_type": "code",
      "metadata": {
        "colab": {
          "base_uri": "https://localhost:8080/"
        },
        "id": "WWRaNKt--ICW",
        "outputId": "67faef17-0d27-49b0-86df-24b2d477f010"
      },
      "source": [
        "df.shape"
      ],
      "execution_count": 4,
      "outputs": [
        {
          "output_type": "execute_result",
          "data": {
            "text/plain": [
              "(5, 4)"
            ]
          },
          "metadata": {},
          "execution_count": 4
        }
      ]
    },
    {
      "cell_type": "markdown",
      "metadata": {
        "id": "51_vMil--__y"
      },
      "source": [
        "The dataset has 5 rows and 4 columns.\n",
        "<br><br>\n",
        "### Part 1\n",
        "\n",
        "\n",
        "*   Filling in missing values in 'FlightCodes' column\n",
        "*   Converting 'FlightCodes' column into integer type\n",
        "\n",
        "\n",
        "\n"
      ]
    },
    {
      "cell_type": "code",
      "metadata": {
        "id": "7RKpIBSBCZtj"
      },
      "source": [
        "# converting to integer type\n",
        "df['FlightCodes'] = df[['FlightCodes']].fillna(0).astype(int)"
      ],
      "execution_count": 5,
      "outputs": []
    },
    {
      "cell_type": "code",
      "metadata": {
        "colab": {
          "base_uri": "https://localhost:8080/"
        },
        "id": "_-MkX5wA-_UX",
        "outputId": "16b8f659-485e-47dd-b06f-9f042313727e"
      },
      "source": [
        "\"\"\"\n",
        "This block fills in the missing values in 'FlightCodes' column.\n",
        "\n",
        "This approach is taken keeping in view all the scenarios that\n",
        "might occur.\n",
        "\n",
        "Cases taken into consideration are:\n",
        "1. [20015, nan, 20035, nan, 20055]\n",
        "2. [nan, nan, 20035, nan, 20055]\n",
        "3. [20015, nan, 20035, nan, nan]\n",
        "4. [nan, nan, 20035, nan, nan]\n",
        "\n",
        "And likewise many other possible permutation and combinations.\n",
        "\n",
        "Only assumption taken here is that there will be at least one flight\n",
        "code present in the column.\n",
        "\"\"\"\n",
        "for idx, val in enumerate(df['FlightCodes']):\n",
        "  if val != 0:\n",
        "    value = val\n",
        "    val_index = idx\n",
        "    break\n",
        "\n",
        "codes = list(df['FlightCodes'])\n",
        "for code in codes:\n",
        "  if code == 0:\n",
        "    null_index = codes.index(code)\n",
        "    codes[null_index] = value + 10*(null_index - val_index)\n",
        "\n",
        "print('Flight codes after filling in missing values')\n",
        "print(codes)\n",
        "\n",
        "# Updating Column\n",
        "df['FlightCodes'] = codes\n"
      ],
      "execution_count": 6,
      "outputs": [
        {
          "output_type": "stream",
          "name": "stdout",
          "text": [
            "Flight codes after filling in missing values\n",
            "[20015, 20025, 20035, 20045, 20055]\n"
          ]
        }
      ]
    },
    {
      "cell_type": "code",
      "metadata": {
        "colab": {
          "base_uri": "https://localhost:8080/",
          "height": 203
        },
        "id": "JHxWyCddHCoX",
        "outputId": "b7a7ffec-0dde-451f-de3d-e3e16ac5df78"
      },
      "source": [
        "df.head()"
      ],
      "execution_count": 7,
      "outputs": [
        {
          "output_type": "execute_result",
          "data": {
            "text/html": [
              "<div>\n",
              "<style scoped>\n",
              "    .dataframe tbody tr th:only-of-type {\n",
              "        vertical-align: middle;\n",
              "    }\n",
              "\n",
              "    .dataframe tbody tr th {\n",
              "        vertical-align: top;\n",
              "    }\n",
              "\n",
              "    .dataframe thead th {\n",
              "        text-align: right;\n",
              "    }\n",
              "</style>\n",
              "<table border=\"1\" class=\"dataframe\">\n",
              "  <thead>\n",
              "    <tr style=\"text-align: right;\">\n",
              "      <th></th>\n",
              "      <th>Airline Code</th>\n",
              "      <th>DelayTimes</th>\n",
              "      <th>FlightCodes</th>\n",
              "      <th>To_From</th>\n",
              "    </tr>\n",
              "  </thead>\n",
              "  <tbody>\n",
              "    <tr>\n",
              "      <th>0</th>\n",
              "      <td>Air Canada (!)</td>\n",
              "      <td>[21, 40]</td>\n",
              "      <td>20015</td>\n",
              "      <td>WAterLoo_NEWYork</td>\n",
              "    </tr>\n",
              "    <tr>\n",
              "      <th>1</th>\n",
              "      <td>&lt;Air France&gt; (12)</td>\n",
              "      <td>[]</td>\n",
              "      <td>20025</td>\n",
              "      <td>Montreal_TORONTO</td>\n",
              "    </tr>\n",
              "    <tr>\n",
              "      <th>2</th>\n",
              "      <td>(Porter Airways. )</td>\n",
              "      <td>[60, 22, 87]</td>\n",
              "      <td>20035</td>\n",
              "      <td>CALgary_Ottawa</td>\n",
              "    </tr>\n",
              "    <tr>\n",
              "      <th>3</th>\n",
              "      <td>12. Air France</td>\n",
              "      <td>[78, 66]</td>\n",
              "      <td>20045</td>\n",
              "      <td>Ottawa_VANcouvER</td>\n",
              "    </tr>\n",
              "    <tr>\n",
              "      <th>4</th>\n",
              "      <td>\".\\.Lufthansa.\\.\"</td>\n",
              "      <td>[12, 33]</td>\n",
              "      <td>20055</td>\n",
              "      <td>london_MONTreal</td>\n",
              "    </tr>\n",
              "  </tbody>\n",
              "</table>\n",
              "</div>"
            ],
            "text/plain": [
              "         Airline Code    DelayTimes  FlightCodes           To_From\n",
              "0      Air Canada (!)      [21, 40]        20015  WAterLoo_NEWYork\n",
              "1   <Air France> (12)            []        20025  Montreal_TORONTO\n",
              "2  (Porter Airways. )  [60, 22, 87]        20035    CALgary_Ottawa\n",
              "3      12. Air France      [78, 66]        20045  Ottawa_VANcouvER\n",
              "4   \".\\.Lufthansa.\\.\"      [12, 33]        20055   london_MONTreal"
            ]
          },
          "metadata": {},
          "execution_count": 7
        }
      ]
    },
    {
      "cell_type": "markdown",
      "metadata": {
        "id": "nOZlC7S3LZgJ"
      },
      "source": [
        "### Part 2\n",
        "\n",
        "\n",
        "*   Split 'To_From' column into 2 columns\n",
        "*   Canvert values into capital case\n",
        "\n"
      ]
    },
    {
      "cell_type": "code",
      "metadata": {
        "id": "KaD24sfdHw8X"
      },
      "source": [
        "df[['To', 'From']] = df['To_From'].str.split('_', expand=True)\n",
        "df['To'] = df['To'].apply(str.capitalize)\n",
        "df['From'] = df['From'].apply(str.capitalize)\n",
        "df['To_From'] = df['To_From'].apply(str.capitalize)"
      ],
      "execution_count": 8,
      "outputs": []
    },
    {
      "cell_type": "code",
      "metadata": {
        "colab": {
          "base_uri": "https://localhost:8080/",
          "height": 203
        },
        "id": "QWfs6IvrOsUu",
        "outputId": "d5d72661-01cf-44d9-e8b2-bd0aa43db133"
      },
      "source": [
        "# 'To_From' column not dropped for the purpose of verification\n",
        "df.head()"
      ],
      "execution_count": 9,
      "outputs": [
        {
          "output_type": "execute_result",
          "data": {
            "text/html": [
              "<div>\n",
              "<style scoped>\n",
              "    .dataframe tbody tr th:only-of-type {\n",
              "        vertical-align: middle;\n",
              "    }\n",
              "\n",
              "    .dataframe tbody tr th {\n",
              "        vertical-align: top;\n",
              "    }\n",
              "\n",
              "    .dataframe thead th {\n",
              "        text-align: right;\n",
              "    }\n",
              "</style>\n",
              "<table border=\"1\" class=\"dataframe\">\n",
              "  <thead>\n",
              "    <tr style=\"text-align: right;\">\n",
              "      <th></th>\n",
              "      <th>Airline Code</th>\n",
              "      <th>DelayTimes</th>\n",
              "      <th>FlightCodes</th>\n",
              "      <th>To_From</th>\n",
              "      <th>To</th>\n",
              "      <th>From</th>\n",
              "    </tr>\n",
              "  </thead>\n",
              "  <tbody>\n",
              "    <tr>\n",
              "      <th>0</th>\n",
              "      <td>Air Canada (!)</td>\n",
              "      <td>[21, 40]</td>\n",
              "      <td>20015</td>\n",
              "      <td>Waterloo_newyork</td>\n",
              "      <td>Waterloo</td>\n",
              "      <td>Newyork</td>\n",
              "    </tr>\n",
              "    <tr>\n",
              "      <th>1</th>\n",
              "      <td>&lt;Air France&gt; (12)</td>\n",
              "      <td>[]</td>\n",
              "      <td>20025</td>\n",
              "      <td>Montreal_toronto</td>\n",
              "      <td>Montreal</td>\n",
              "      <td>Toronto</td>\n",
              "    </tr>\n",
              "    <tr>\n",
              "      <th>2</th>\n",
              "      <td>(Porter Airways. )</td>\n",
              "      <td>[60, 22, 87]</td>\n",
              "      <td>20035</td>\n",
              "      <td>Calgary_ottawa</td>\n",
              "      <td>Calgary</td>\n",
              "      <td>Ottawa</td>\n",
              "    </tr>\n",
              "    <tr>\n",
              "      <th>3</th>\n",
              "      <td>12. Air France</td>\n",
              "      <td>[78, 66]</td>\n",
              "      <td>20045</td>\n",
              "      <td>Ottawa_vancouver</td>\n",
              "      <td>Ottawa</td>\n",
              "      <td>Vancouver</td>\n",
              "    </tr>\n",
              "    <tr>\n",
              "      <th>4</th>\n",
              "      <td>\".\\.Lufthansa.\\.\"</td>\n",
              "      <td>[12, 33]</td>\n",
              "      <td>20055</td>\n",
              "      <td>London_montreal</td>\n",
              "      <td>London</td>\n",
              "      <td>Montreal</td>\n",
              "    </tr>\n",
              "  </tbody>\n",
              "</table>\n",
              "</div>"
            ],
            "text/plain": [
              "         Airline Code    DelayTimes  ...        To       From\n",
              "0      Air Canada (!)      [21, 40]  ...  Waterloo    Newyork\n",
              "1   <Air France> (12)            []  ...  Montreal    Toronto\n",
              "2  (Porter Airways. )  [60, 22, 87]  ...   Calgary     Ottawa\n",
              "3      12. Air France      [78, 66]  ...    Ottawa  Vancouver\n",
              "4   \".\\.Lufthansa.\\.\"      [12, 33]  ...    London   Montreal\n",
              "\n",
              "[5 rows x 6 columns]"
            ]
          },
          "metadata": {},
          "execution_count": 9
        }
      ]
    },
    {
      "cell_type": "markdown",
      "metadata": {
        "id": "C0dprEpOPaHf"
      },
      "source": [
        "### Part 3\n",
        "\n",
        "\n",
        "*   Remove punctuations from 'Airline Code' column except spaces\n",
        "\n"
      ]
    },
    {
      "cell_type": "code",
      "metadata": {
        "id": "NB3hqeTqPyVl"
      },
      "source": [
        "def clean_data(airline_code):\n",
        "  return str.strip(\"\".join([char for char in airline_code if char not in string.punctuation]))"
      ],
      "execution_count": 10,
      "outputs": []
    },
    {
      "cell_type": "code",
      "metadata": {
        "colab": {
          "base_uri": "https://localhost:8080/",
          "height": 203
        },
        "id": "pwMvGftdQ_IL",
        "outputId": "99c64e79-e243-4d23-bba2-9ae8b9bd4a1a"
      },
      "source": [
        "df['Airline Code'] = df['Airline Code'].apply(clean_data)\n",
        "df.head()"
      ],
      "execution_count": 11,
      "outputs": [
        {
          "output_type": "execute_result",
          "data": {
            "text/html": [
              "<div>\n",
              "<style scoped>\n",
              "    .dataframe tbody tr th:only-of-type {\n",
              "        vertical-align: middle;\n",
              "    }\n",
              "\n",
              "    .dataframe tbody tr th {\n",
              "        vertical-align: top;\n",
              "    }\n",
              "\n",
              "    .dataframe thead th {\n",
              "        text-align: right;\n",
              "    }\n",
              "</style>\n",
              "<table border=\"1\" class=\"dataframe\">\n",
              "  <thead>\n",
              "    <tr style=\"text-align: right;\">\n",
              "      <th></th>\n",
              "      <th>Airline Code</th>\n",
              "      <th>DelayTimes</th>\n",
              "      <th>FlightCodes</th>\n",
              "      <th>To_From</th>\n",
              "      <th>To</th>\n",
              "      <th>From</th>\n",
              "    </tr>\n",
              "  </thead>\n",
              "  <tbody>\n",
              "    <tr>\n",
              "      <th>0</th>\n",
              "      <td>Air Canada</td>\n",
              "      <td>[21, 40]</td>\n",
              "      <td>20015</td>\n",
              "      <td>Waterloo_newyork</td>\n",
              "      <td>Waterloo</td>\n",
              "      <td>Newyork</td>\n",
              "    </tr>\n",
              "    <tr>\n",
              "      <th>1</th>\n",
              "      <td>Air France 12</td>\n",
              "      <td>[]</td>\n",
              "      <td>20025</td>\n",
              "      <td>Montreal_toronto</td>\n",
              "      <td>Montreal</td>\n",
              "      <td>Toronto</td>\n",
              "    </tr>\n",
              "    <tr>\n",
              "      <th>2</th>\n",
              "      <td>Porter Airways</td>\n",
              "      <td>[60, 22, 87]</td>\n",
              "      <td>20035</td>\n",
              "      <td>Calgary_ottawa</td>\n",
              "      <td>Calgary</td>\n",
              "      <td>Ottawa</td>\n",
              "    </tr>\n",
              "    <tr>\n",
              "      <th>3</th>\n",
              "      <td>12 Air France</td>\n",
              "      <td>[78, 66]</td>\n",
              "      <td>20045</td>\n",
              "      <td>Ottawa_vancouver</td>\n",
              "      <td>Ottawa</td>\n",
              "      <td>Vancouver</td>\n",
              "    </tr>\n",
              "    <tr>\n",
              "      <th>4</th>\n",
              "      <td>Lufthansa</td>\n",
              "      <td>[12, 33]</td>\n",
              "      <td>20055</td>\n",
              "      <td>London_montreal</td>\n",
              "      <td>London</td>\n",
              "      <td>Montreal</td>\n",
              "    </tr>\n",
              "  </tbody>\n",
              "</table>\n",
              "</div>"
            ],
            "text/plain": [
              "     Airline Code    DelayTimes  ...        To       From\n",
              "0      Air Canada      [21, 40]  ...  Waterloo    Newyork\n",
              "1   Air France 12            []  ...  Montreal    Toronto\n",
              "2  Porter Airways  [60, 22, 87]  ...   Calgary     Ottawa\n",
              "3   12 Air France      [78, 66]  ...    Ottawa  Vancouver\n",
              "4       Lufthansa      [12, 33]  ...    London   Montreal\n",
              "\n",
              "[5 rows x 6 columns]"
            ]
          },
          "metadata": {},
          "execution_count": 11
        }
      ]
    },
    {
      "cell_type": "markdown",
      "metadata": {
        "id": "v3T2DXIqRlU8"
      },
      "source": [
        "### Part 4\n",
        "\n",
        "\n",
        "*   Mock SQL query to find all flights leaving from Waterloo\n",
        "\n",
        "`SELECT\n",
        "   FlightCodes\n",
        "FROM df\n",
        "WHERE LOWER(From) == 'waterloo';\n",
        "`\n",
        "\n",
        "**Explanation:** <br>df is the table name and we are converting the 'From' column to lower case because in general data can be any case.<br> So to avoid any error, we convert the values to lower case and then equate it with the required value.\n",
        "\n"
      ]
    }
  ]
}